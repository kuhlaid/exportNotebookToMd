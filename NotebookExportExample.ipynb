{
  "nbformat": 4,
  "nbformat_minor": 0,
  "metadata": {
    "colab": {
      "provenance": []
    },
    "kernelspec": {
      "name": "python3",
      "display_name": "Python 3"
    },
    "language_info": {
      "name": "python"
    },
    "widgets": {
      "application/vnd.jupyter.widget-state+json": {
        "9e65f52e3a83484cbdbe6ed999af8b6b": {
          "model_module": "@jupyter-widgets/controls",
          "model_name": "IntSliderModel",
          "model_module_version": "1.5.0",
          "state": {
            "_dom_classes": [],
            "_model_module": "@jupyter-widgets/controls",
            "_model_module_version": "1.5.0",
            "_model_name": "IntSliderModel",
            "_view_count": null,
            "_view_module": "@jupyter-widgets/controls",
            "_view_module_version": "1.5.0",
            "_view_name": "IntSliderView",
            "continuous_update": false,
            "description": "Test:",
            "description_tooltip": null,
            "disabled": false,
            "layout": "IPY_MODEL_c5b9930738f04d9b81fea880b5ace584",
            "max": 10,
            "min": 0,
            "orientation": "horizontal",
            "readout": true,
            "readout_format": "d",
            "step": 1,
            "style": "IPY_MODEL_00eca647da744b7db4f0a4eec852c23c",
            "value": 3
          }
        },
        "c5b9930738f04d9b81fea880b5ace584": {
          "model_module": "@jupyter-widgets/base",
          "model_name": "LayoutModel",
          "model_module_version": "1.2.0",
          "state": {
            "_model_module": "@jupyter-widgets/base",
            "_model_module_version": "1.2.0",
            "_model_name": "LayoutModel",
            "_view_count": null,
            "_view_module": "@jupyter-widgets/base",
            "_view_module_version": "1.2.0",
            "_view_name": "LayoutView",
            "align_content": null,
            "align_items": null,
            "align_self": null,
            "border": null,
            "bottom": null,
            "display": null,
            "flex": null,
            "flex_flow": null,
            "grid_area": null,
            "grid_auto_columns": null,
            "grid_auto_flow": null,
            "grid_auto_rows": null,
            "grid_column": null,
            "grid_gap": null,
            "grid_row": null,
            "grid_template_areas": null,
            "grid_template_columns": null,
            "grid_template_rows": null,
            "height": null,
            "justify_content": null,
            "justify_items": null,
            "left": null,
            "margin": null,
            "max_height": null,
            "max_width": null,
            "min_height": null,
            "min_width": null,
            "object_fit": null,
            "object_position": null,
            "order": null,
            "overflow": null,
            "overflow_x": null,
            "overflow_y": null,
            "padding": null,
            "right": null,
            "top": null,
            "visibility": null,
            "width": null
          }
        },
        "00eca647da744b7db4f0a4eec852c23c": {
          "model_module": "@jupyter-widgets/controls",
          "model_name": "SliderStyleModel",
          "model_module_version": "1.5.0",
          "state": {
            "_model_module": "@jupyter-widgets/controls",
            "_model_module_version": "1.5.0",
            "_model_name": "SliderStyleModel",
            "_view_count": null,
            "_view_module": "@jupyter-widgets/base",
            "_view_module_version": "1.2.0",
            "_view_name": "StyleView",
            "description_width": "",
            "handle_color": null
          }
        }
      }
    }
  },
  "cells": [
    {
      "cell_type": "markdown",
      "source": [
        "## About this document\n",
        "\n",
        "This document tries to demonstrate how to export a Jupyter notebook from within a notebook code cell and not the command line. This allows for a more automated approach to exporting a notebook to Markdow for example.\n",
        "\n",
        "However, this approach does not work in Google Colab since"
      ],
      "metadata": {
        "id": "VbXZJHHLRV4s"
      }
    },
    {
      "cell_type": "code",
      "source": [
        "# prompt: a slider using jupyter widget\n",
        "\n",
        "import ipywidgets as widgets\n",
        "\n",
        "widgets.IntSlider(\n",
        "    value=3,\n",
        "    min=0,\n",
        "    max=10,\n",
        "    step=1,\n",
        "    description='Test:',\n",
        "    disabled=False,\n",
        "    continuous_update=False,\n",
        "    orientation='horizontal',\n",
        "    readout=True,\n",
        "    readout_format='d'\n",
        ")\n"
      ],
      "metadata": {
        "colab": {
          "base_uri": "https://localhost:8080/",
          "height": 49,
          "referenced_widgets": [
            "9e65f52e3a83484cbdbe6ed999af8b6b",
            "c5b9930738f04d9b81fea880b5ace584",
            "00eca647da744b7db4f0a4eec852c23c"
          ]
        },
        "id": "gimgutLHRxiS",
        "outputId": "7136ca68-94b3-4e08-e86c-1779fae1b931"
      },
      "execution_count": 1,
      "outputs": [
        {
          "output_type": "display_data",
          "data": {
            "text/plain": [
              "IntSlider(value=3, continuous_update=False, description='Test:', max=10)"
            ],
            "application/vnd.jupyter.widget-view+json": {
              "version_major": 2,
              "version_minor": 0,
              "model_id": "9e65f52e3a83484cbdbe6ed999af8b6b"
            }
          },
          "metadata": {}
        }
      ]
    },
    {
      "cell_type": "code",
      "source": [
        "from _notebook_export import exportNotebook # this will export the notebook to Markdown\n",
        "strNotebookFileInput=\"NotebookExportExample.ipynb\"\n",
        "strExportFileOutput=\"ExportedNotebook.md\"\n",
        "exportNotebook(strNotebookFileInput, strExportFileOutput)\n",
        "print(\"done with exportNotebook\")"
      ],
      "metadata": {
        "colab": {
          "base_uri": "https://localhost:8080/"
        },
        "id": "0XqoZ1NDR-na",
        "outputId": "3ddecf1f-9f85-4d5d-8268-3cad833507e3"
      },
      "execution_count": 2,
      "outputs": [
        {
          "output_type": "stream",
          "name": "stdout",
          "text": [
            "jupyter nbconvert NotebookExportExample.ipynb --to markdown --output ExportedNotebook.md\n",
            "done with exportNotebook\n"
          ]
        }
      ]
    },
    {
      "cell_type": "code",
      "source": [
        "!jupyter nbconvert NotebookExportEx.ipynb --to markdown --output ExportedNotebook.md"
      ],
      "metadata": {
        "colab": {
          "base_uri": "https://localhost:8080/"
        },
        "id": "rKgeUYdhfT6D",
        "outputId": "c8c1ae52-b474-4dcb-850f-dab3a81804e5"
      },
      "execution_count": 3,
      "outputs": [
        {
          "output_type": "stream",
          "name": "stdout",
          "text": [
            "[NbConvertApp] Converting notebook NotebookExportEx.ipynb to markdown\n",
            "Traceback (most recent call last):\n",
            "  File \"/usr/local/lib/python3.10/dist-packages/nbformat/reader.py\", line 19, in parse_json\n",
            "    nb_dict = json.loads(s, **kwargs)\n",
            "  File \"/usr/lib/python3.10/json/__init__.py\", line 346, in loads\n",
            "    return _default_decoder.decode(s)\n",
            "  File \"/usr/lib/python3.10/json/decoder.py\", line 337, in decode\n",
            "    obj, end = self.raw_decode(s, idx=_w(s, 0).end())\n",
            "  File \"/usr/lib/python3.10/json/decoder.py\", line 355, in raw_decode\n",
            "    raise JSONDecodeError(\"Expecting value\", s, err.value) from None\n",
            "json.decoder.JSONDecodeError: Expecting value: line 1 column 1 (char 0)\n",
            "\n",
            "The above exception was the direct cause of the following exception:\n",
            "\n",
            "Traceback (most recent call last):\n",
            "  File \"/usr/local/bin/jupyter-nbconvert\", line 8, in <module>\n",
            "    sys.exit(main())\n",
            "  File \"/usr/local/lib/python3.10/dist-packages/jupyter_core/application.py\", line 283, in launch_instance\n",
            "    super().launch_instance(argv=argv, **kwargs)\n",
            "  File \"/usr/local/lib/python3.10/dist-packages/traitlets/config/application.py\", line 992, in launch_instance\n",
            "    app.start()\n",
            "  File \"/usr/local/lib/python3.10/dist-packages/nbconvert/nbconvertapp.py\", line 423, in start\n",
            "    self.convert_notebooks()\n",
            "  File \"/usr/local/lib/python3.10/dist-packages/nbconvert/nbconvertapp.py\", line 597, in convert_notebooks\n",
            "    self.convert_single_notebook(notebook_filename)\n",
            "  File \"/usr/local/lib/python3.10/dist-packages/nbconvert/nbconvertapp.py\", line 560, in convert_single_notebook\n",
            "    output, resources = self.export_single_notebook(\n",
            "  File \"/usr/local/lib/python3.10/dist-packages/nbconvert/nbconvertapp.py\", line 488, in export_single_notebook\n",
            "    output, resources = self.exporter.from_filename(\n",
            "  File \"/usr/local/lib/python3.10/dist-packages/nbconvert/exporters/exporter.py\", line 189, in from_filename\n",
            "    return self.from_file(f, resources=resources, **kw)\n",
            "  File \"/usr/local/lib/python3.10/dist-packages/nbconvert/exporters/exporter.py\", line 207, in from_file\n",
            "    nbformat.read(file_stream, as_version=4), resources=resources, **kw\n",
            "  File \"/usr/local/lib/python3.10/dist-packages/nbformat/__init__.py\", line 174, in read\n",
            "    return reads(buf, as_version, capture_validation_error, **kwargs)\n",
            "  File \"/usr/local/lib/python3.10/dist-packages/nbformat/__init__.py\", line 92, in reads\n",
            "    nb = reader.reads(s, **kwargs)\n",
            "  File \"/usr/local/lib/python3.10/dist-packages/nbformat/reader.py\", line 75, in reads\n",
            "    nb_dict = parse_json(s, **kwargs)\n",
            "  File \"/usr/local/lib/python3.10/dist-packages/nbformat/reader.py\", line 25, in parse_json\n",
            "    raise NotJSONError(message) from e\n",
            "nbformat.reader.NotJSONError: Notebook does not appear to be JSON: ''\n"
          ]
        }
      ]
    },
    {
      "cell_type": "code",
      "source": [
        "!ls"
      ],
      "metadata": {
        "colab": {
          "base_uri": "https://localhost:8080/"
        },
        "id": "ofKl49m7f0rg",
        "outputId": "ecb124a4-fb58-41fb-a237-a203a4eda65e"
      },
      "execution_count": 4,
      "outputs": [
        {
          "output_type": "stream",
          "name": "stdout",
          "text": [
            "NotebookExportEx.ipynb\t_notebook_export.py  __pycache__  sample_data\n"
          ]
        }
      ]
    }
  ]
}
